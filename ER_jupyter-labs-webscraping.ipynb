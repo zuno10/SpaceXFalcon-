{
 "cells": [
  {
   "cell_type": "markdown",
   "metadata": {},
   "source": [
    "<p style=\"text-align:center\">\n",
    "    <a href=\"https://skills.network/?utm_medium=Exinfluencer&utm_source=Exinfluencer&utm_content=000026UJ&utm_term=10006555&utm_id=NA-SkillsNetwork-Channel-SkillsNetworkCoursesIBMDS0321ENSkillsNetwork26802033-2022-01-01\" target=\"_blank\">\n",
    "    <img src=\"https://cf-courses-data.s3.us.cloud-object-storage.appdomain.cloud/assets/logos/SN_web_lightmode.png\" width=\"200\" alt=\"Skills Network Logo\"  />\n",
    "    </a>\n",
    "</p>\n"
   ]
  },
  {
   "cell_type": "markdown",
   "metadata": {},
   "source": [
    "# **Space X  Falcon 9 First Stage Landing Prediction**\n"
   ]
  },
  {
   "cell_type": "markdown",
   "metadata": {},
   "source": [
    "## Web scraping Falcon 9 and Falcon Heavy Launches Records from Wikipedia\n"
   ]
  },
  {
   "cell_type": "markdown",
   "metadata": {},
   "source": [
    "Estimated time needed: **40** minutes\n"
   ]
  },
  {
   "cell_type": "markdown",
   "metadata": {},
   "source": [
    "In this lab, you will be performing web scraping to collect Falcon 9 historical launch records from a Wikipedia page titled `List of Falcon 9 and Falcon Heavy launches`\n",
    "\n",
    "[https://en.wikipedia.org/wiki/List_of_Falcon\\_9\\_and_Falcon_Heavy_launches](https://en.wikipedia.org/wiki/List_of_Falcon\\_9\\_and_Falcon_Heavy_launches?utm_medium=Exinfluencer&utm_source=Exinfluencer&utm_content=000026UJ&utm_term=10006555&utm_id=NA-SkillsNetwork-Channel-SkillsNetworkCoursesIBMDS0321ENSkillsNetwork26802033-2022-01-01)\n"
   ]
  },
  {
   "cell_type": "markdown",
   "metadata": {},
   "source": [
    "![](https://cf-courses-data.s3.us.cloud-object-storage.appdomain.cloud/IBM-DS0321EN-SkillsNetwork/labs/module\\_1\\_L2/images/Falcon9\\_rocket_family.svg)\n"
   ]
  },
  {
   "cell_type": "markdown",
   "metadata": {},
   "source": [
    "Falcon 9 first stage will land successfully\n"
   ]
  },
  {
   "cell_type": "markdown",
   "metadata": {},
   "source": [
    "![](https://cf-courses-data.s3.us.cloud-object-storage.appdomain.cloud/IBMDeveloperSkillsNetwork-DS0701EN-SkillsNetwork/api/Images/landing\\_1.gif)\n"
   ]
  },
  {
   "cell_type": "markdown",
   "metadata": {},
   "source": [
    "Several examples of an unsuccessful landing are shown here:\n"
   ]
  },
  {
   "cell_type": "markdown",
   "metadata": {},
   "source": [
    "![](https://cf-courses-data.s3.us.cloud-object-storage.appdomain.cloud/IBMDeveloperSkillsNetwork-DS0701EN-SkillsNetwork/api/Images/crash.gif)\n"
   ]
  },
  {
   "cell_type": "markdown",
   "metadata": {},
   "source": [
    "More specifically, the launch records are stored in a HTML table shown below:\n"
   ]
  },
  {
   "cell_type": "markdown",
   "metadata": {},
   "source": [
    "![](https://cf-courses-data.s3.us.cloud-object-storage.appdomain.cloud/IBM-DS0321EN-SkillsNetwork/labs/module\\_1\\_L2/images/falcon9-launches-wiki.png)\n"
   ]
  },
  {
   "cell_type": "markdown",
   "metadata": {},
   "source": [
    "## Objectives\n",
    "\n",
    "Web scrap Falcon 9 launch records with `BeautifulSoup`:\n",
    "\n",
    "*   Extract a Falcon 9 launch records HTML table from Wikipedia\n",
    "*   Parse the table and convert it into a Pandas data frame\n"
   ]
  },
  {
   "cell_type": "markdown",
   "metadata": {},
   "source": [
    "First let's import required packages for this lab\n"
   ]
  },
  {
   "cell_type": "code",
   "execution_count": 1,
   "metadata": {},
   "outputs": [
    {
     "name": "stdout",
     "output_type": "stream",
     "text": [
      "Requirement already satisfied: beautifulsoup4 in /home/jupyterlab/conda/envs/python/lib/python3.7/site-packages (4.11.1)\n",
      "Requirement already satisfied: soupsieve>1.2 in /home/jupyterlab/conda/envs/python/lib/python3.7/site-packages (from beautifulsoup4) (2.3.2.post1)\n",
      "Requirement already satisfied: requests in /home/jupyterlab/conda/envs/python/lib/python3.7/site-packages (2.28.1)\n",
      "Requirement already satisfied: charset-normalizer<3,>=2 in /home/jupyterlab/conda/envs/python/lib/python3.7/site-packages (from requests) (2.1.1)\n",
      "Requirement already satisfied: certifi>=2017.4.17 in /home/jupyterlab/conda/envs/python/lib/python3.7/site-packages (from requests) (2022.9.24)\n",
      "Requirement already satisfied: urllib3<1.27,>=1.21.1 in /home/jupyterlab/conda/envs/python/lib/python3.7/site-packages (from requests) (1.26.13)\n",
      "Requirement already satisfied: idna<4,>=2.5 in /home/jupyterlab/conda/envs/python/lib/python3.7/site-packages (from requests) (3.4)\n"
     ]
    }
   ],
   "source": [
    "!pip3 install beautifulsoup4\n",
    "!pip3 install requests"
   ]
  },
  {
   "cell_type": "code",
   "execution_count": 2,
   "metadata": {},
   "outputs": [],
   "source": [
    "import sys\n",
    "\n",
    "import requests\n",
    "from bs4 import BeautifulSoup\n",
    "import re\n",
    "import unicodedata\n",
    "import pandas as pd"
   ]
  },
  {
   "cell_type": "markdown",
   "metadata": {},
   "source": [
    "and we will provide some helper functions for you to process web scraped HTML table\n"
   ]
  },
  {
   "cell_type": "code",
   "execution_count": 3,
   "metadata": {},
   "outputs": [],
   "source": [
    "def date_time(table_cells):\n",
    "    \"\"\"\n",
    "    This function returns the data and time from the HTML  table cell\n",
    "    Input: the  element of a table data cell extracts extra row\n",
    "    \"\"\"\n",
    "    return [data_time.strip() for data_time in list(table_cells.strings)][0:2]\n",
    "\n",
    "def booster_version(table_cells):\n",
    "    \"\"\"\n",
    "    This function returns the booster version from the HTML  table cell \n",
    "    Input: the  element of a table data cell extracts extra row\n",
    "    \"\"\"\n",
    "    out=''.join([booster_version for i,booster_version in enumerate( table_cells.strings) if i%2==0][0:-1])\n",
    "    return out\n",
    "\n",
    "def landing_status(table_cells):\n",
    "    \"\"\"\n",
    "    This function returns the landing status from the HTML table cell \n",
    "    Input: the  element of a table data cell extracts extra row\n",
    "    \"\"\"\n",
    "    out=[i for i in table_cells.strings][0]\n",
    "    return out\n",
    "\n",
    "\n",
    "def get_mass(table_cells):\n",
    "    mass=unicodedata.normalize(\"NFKD\", table_cells.text).strip()\n",
    "    if mass:\n",
    "        mass.find(\"kg\")\n",
    "        new_mass=mass[0:mass.find(\"kg\")+2]\n",
    "    else:\n",
    "        new_mass=0\n",
    "    return new_mass\n",
    "\n",
    "\n",
    "def extract_column_from_header(row):\n",
    "    \"\"\"\n",
    "    This function returns the landing status from the HTML table cell \n",
    "    Input: the  element of a table data cell extracts extra row\n",
    "    \"\"\"\n",
    "    if (row.br):\n",
    "        row.br.extract()\n",
    "    if row.a:\n",
    "        row.a.extract()\n",
    "    if row.sup:\n",
    "        row.sup.extract()\n",
    "        \n",
    "    colunm_name = ' '.join(row.contents)\n",
    "    \n",
    "    # Filter the digit and empty names\n",
    "    if not(colunm_name.strip().isdigit()):\n",
    "        colunm_name = colunm_name.strip()\n",
    "        return colunm_name    \n"
   ]
  },
  {
   "cell_type": "markdown",
   "metadata": {},
   "source": [
    "To keep the lab tasks consistent, you will be asked to scrape the data from a snapshot of the  `List of Falcon 9 and Falcon Heavy launches` Wikipage updated on\n",
    "`9th June 2021`\n"
   ]
  },
  {
   "cell_type": "code",
   "execution_count": 4,
   "metadata": {},
   "outputs": [],
   "source": [
    "static_url = \"https://en.wikipedia.org/w/index.php?title=List_of_Falcon_9_and_Falcon_Heavy_launches&oldid=1027686922\""
   ]
  },
  {
   "cell_type": "markdown",
   "metadata": {},
   "source": [
    "Next, request the HTML page from the above URL and get a `response` object\n"
   ]
  },
  {
   "cell_type": "markdown",
   "metadata": {},
   "source": [
    "### TASK 1: Request the Falcon9 Launch Wiki page from its URL\n"
   ]
  },
  {
   "cell_type": "markdown",
   "metadata": {},
   "source": [
    "First, let's perform an HTTP GET method to request the Falcon9 Launch HTML page, as an HTTP response.\n"
   ]
  },
  {
   "cell_type": "code",
   "execution_count": 5,
   "metadata": {},
   "outputs": [],
   "source": [
    "# use requests.get() method with the provided static_url\n",
    "# assign the response to a object\n",
    "response = requests.get(static_url).text"
   ]
  },
  {
   "cell_type": "markdown",
   "metadata": {},
   "source": [
    "Create a `BeautifulSoup` object from the HTML `response`\n"
   ]
  },
  {
   "cell_type": "code",
   "execution_count": 6,
   "metadata": {},
   "outputs": [],
   "source": [
    "# Use BeautifulSoup() to create a BeautifulSoup object from a response text content\n",
    "soup = BeautifulSoup(response,'html.parser')"
   ]
  },
  {
   "cell_type": "markdown",
   "metadata": {},
   "source": [
    "Print the page title to verify if the `BeautifulSoup` object was created properly\n"
   ]
  },
  {
   "cell_type": "code",
   "execution_count": 7,
   "metadata": {},
   "outputs": [
    {
     "name": "stdout",
     "output_type": "stream",
     "text": [
      "<title>List of Falcon 9 and Falcon Heavy launches - Wikipedia</title>\n"
     ]
    }
   ],
   "source": [
    "# Use soup.title attribute\n",
    "print(soup.title)"
   ]
  },
  {
   "cell_type": "markdown",
   "metadata": {},
   "source": [
    "### TASK 2: Extract all column/variable names from the HTML table header\n"
   ]
  },
  {
   "cell_type": "markdown",
   "metadata": {},
   "source": [
    "Next, we want to collect all relevant column names from the HTML table header\n"
   ]
  },
  {
   "cell_type": "markdown",
   "metadata": {},
   "source": [
    "Let's try to find all tables on the wiki page first. If you need to refresh your memory about `BeautifulSoup`, please check the external reference link towards the end of this lab\n"
   ]
  },
  {
   "cell_type": "code",
   "execution_count": 8,
   "metadata": {
    "collapsed": true,
    "jupyter": {
     "outputs_hidden": true
    },
    "tags": []
   },
   "outputs": [
    {
     "name": "stdout",
     "output_type": "stream",
     "text": [
      "[<table class=\"multicol\" role=\"presentation\" style=\"border-collapse: collapse; padding: 0; border: 0; background:transparent; width:100%;\">\n",
      "<tbody><tr>\n",
      "<td style=\"text-align: left; vertical-align: top;\">\n",
      "<h3><span class=\"mw-headline\" id=\"Rocket_configurations\">Rocket configurations</span></h3>\n",
      "<div class=\"chart noresize\" style=\"margin-top:1em;max-width:420px;\">\n",
      "<div style=\"position:relative;min-height:320px;min-width:420px;max-width:420px;\">\n",
     
      "66\n",
      "23 December 2018\n",
      "13:51\n",
      "F9 B5\n",
      "CCAFS\n",
      "GPS III\n",
      "GPS III\n",
      "MEO\n",
      "<generator object Tag._all_strings at 0x7f6998be9a50>\n",
      "Success\n",
      "No attempt\n",
      "67\n",
      "11 January 2019\n",
      "15:31\n",
      "F9 B5B1049.2\n",
      "VAFB\n",
      "Iridium NEXT\n",
      "Iridium NEXT\n",
      "Polar\n",
      "<generator object Tag._all_strings at 0x7f6998be9ad0>\n",
      "Success\n",
      "\n",
      "Success\n",
      "68\n",
      "22 February 2019\n",
      "01:45\n",
      "F9 B5B1048.3\n",
      "CCAFS\n",
      "Nusantara Satu\n",
      "Nusantara Satu\n",
      "GTO\n",
      "<generator object Tag._all_strings at 0x7f6998be9b50>\n",
      "Success\n",
      "\n",
      "Success\n",
      "69\n",
      "2 March 2019\n",
      "07:49\n",
      "F9 B5[268]\n",
      "KSC\n",
      "Crew Dragon Demo-1\n",
      "Crew Dragon Demo-1\n",
      "LEO\n",
      "<generator object Tag._all_strings at 0x7f6998be9bd0>\n",
      "Success\n",
      "\n",
      "Success\n",
      "70\n",
      "4 May 2019\n",
      "06:48\n",
      "F9 B5\n",
      "CCAFS\n",
      "SpaceX CRS-17\n",
      "SpaceX CRS-17\n",
      "LEO\n",
      "<generator object Tag._all_strings at 0x7f6998be9c50>\n",
      "Success\n",
      "\n",
      "Success\n",
      "71\n",
      "24 May 2019\n",
      "02:30\n",
      "F9 B5B1049.3\n",
      "CCAFS\n",
      "Starlink\n",
      "Starlink\n",
      "LEO\n",
      "<generator object Tag._all_strings at 0x7f6998be9cd0>\n",
      "Success\n",
      "\n",
      "Success\n",
      "72\n",
      "12 June 2019\n",
      "14:17\n",
      "F9 B5B1051.2\n",
      "VAFB\n",
      "RADARSAT Constellation\n",
      "RADARSAT Constellation\n",
      "SSO\n",
      "<generator object Tag._all_strings at 0x7f6998be9d50>\n",
      "Success\n",
      "\n",
      "Success\n",
      "73\n",
      "25 July 2019\n",
      "22:01\n",
      "F9 B5B1056.2\n",
      "CCAFS\n",
      "SpaceX CRS-18\n",
      "SpaceX CRS-18\n",
      "LEO\n",
      "<generator object Tag._all_strings at 0x7f6998be9dd0>\n",
      "Success\n",
      "\n",
      "Success\n",
      "74\n",
      "6 August 2019\n",
      "23:23\n",
      "F9 B5B1047.3\n",
      "CCAFS\n",
      "AMOS-17\n",
      "AMOS-17\n",
      "GTO\n",
      "<generator object Tag._all_strings at 0x7f6998be9e50>\n",
      "Success\n",
      "\n",
      "No attempt\n",
      "75\n",
      "11 November 2019\n",
      "14:56\n",
      "F9 B5\n",
      "CCAFS\n",
      "Starlink\n",
      "Starlink\n",
      "LEO\n",
      "<generator object Tag._all_strings at 0x7f6998be9ed0>\n",
      "Success\n",
      "\n",
      "Success\n",
      "76\n",
      "5 December 2019\n",
      "17:29\n",
      "F9 B5\n",
      "CCAFS\n",
      "SpaceX CRS-19\n",
      "SpaceX CRS-19\n",
      "LEO\n",
      "<generator object Tag._all_strings at 0x7f6998be9f50>\n",
      "Success\n",
      "\n",
      "Success\n",
      "77\n",
      "17 December 2019\n",
      "00:10\n",
      "F9 B5B1056.3\n",
      "CCAFS\n",
      "JCSat-18\n",
      "JCSat-18\n",
      "GTO\n",
      "<generator object Tag._all_strings at 0x7f6998ce3050>\n",
      "Success\n",
      "\n",
      "Success\n",
      "78\n",
      "7 January 2020\n",
      "02:19:21\n",
      "F9 B5\n",
      "CCAFS\n",
      "Starlink\n",
      "Starlink\n",
      "LEO\n",
      "<generator object Tag._all_strings at 0x7f6998ce30d0>\n",
      "Success\n",
      "\n",
      "Success\n",
      "79\n",
      "19 January 2020\n",
      "15:30\n",
      "F9 B5\n",
      "KSC\n",
      "Crew Dragon in-flight abort test\n",
      "Crew Dragon in-flight abort test\n",
      "Sub-orbital\n",
      "<generator object Tag._all_strings at 0x7f6998ce3150>\n",
      "Success\n",
      "\n",
      "No attempt\n",
      "\n",
      "80\n",
      "29 January 2020\n",
      "14:07\n",
      "F9 B5\n",
      "CCAFS\n",
      "Starlink\n",
      "Starlink\n",
      "LEO\n",
      "<generator object Tag._all_strings at 0x7f6998ce31d0>\n",
      "Success\n",
      "\n",
      "Success\n",
      "81\n",
      "17 February 2020\n",
      "15:05\n",
      "F9 B5\n",
      "CCAFS\n",
      "Starlink\n",
      "Starlink\n",
      "LEO\n",
      "<generator object Tag._all_strings at 0x7f6998ce3250>\n",
      "Success\n",
      "\n",
      "Failure\n",
      "82\n",
      "7 March 2020\n",
      "04:50\n",
      "F9 B5\n",
      "CCAFS\n",
      "SpaceX CRS-20\n",
      "SpaceX CRS-20\n",
      "LEO\n",
      "<generator object Tag._all_strings at 0x7f6998ce32d0>\n",
      "Success\n",
      "\n",
      "Success\n",
      "83\n",
      "18 March 2020\n",
      "12:16\n",
      "F9 B5\n",
      "KSC\n",
      "Starlink\n",
      "Starlink\n",
      "LEO\n",
      "<generator object Tag._all_strings at 0x7f6998ce3350>\n",
      "Success\n",
      "\n",
      "Failure\n",
      "84\n",
      "22 April 2020\n",
      "19:30\n",
      "F9 B5\n",
      "KSC\n",
      "Starlink\n",
      "Starlink\n",
      "LEO\n",
      "<generator object Tag._all_strings at 0x7f6998ce33d0>\n",
      "Success\n",
      "\n",
      "Success\n",
      "85\n",
      "30 May 2020\n",
      "19:22\n",
      "F9 B5\n",
      "KSC\n",
      "Crew Dragon Demo-2\n",
      "Crew Dragon Demo-2\n",
      "LEO\n",
      "<generator object Tag._all_strings at 0x7f6998ce3450>\n",
      "Success\n",
      "\n",
      "Success\n",
      "86\n",
      "4 June 2020\n",
      "01:25\n",
      "F9 B5\n",
      "CCAFS\n",
      "Starlink\n",
      "Starlink\n",
      "LEO\n",
      "<generator object Tag._all_strings at 0x7f6998ce34d0>\n",
      "Success\n",
      "\n",
      "Success\n",
      "87\n",
      "13 June 2020\n",
      "09:21\n",
      "F9 B5\n",
      "CCAFS\n",
      "Starlink\n",
      "Starlink\n",
      "LEO\n",
      "<generator object Tag._all_strings at 0x7f6998ce3550>\n",
      "Success\n",
      "\n",
      "Success\n",
      "88\n",
      "30 June 2020\n",
      "20:10:46\n",
      "F9 B5\n",
      "CCAFS\n",
      "GPS III\n",
      "GPS III\n",
      "MEO\n",
      "<generator object Tag._all_strings at 0x7f6998ce35d0>\n",
      "Success\n",
      "\n",
      "Success\n",
      "89\n",
      "20 July 2020\n",
      "21:30\n",
      "F9 B5B1058.2\n",
      "CCAFS\n",
      "ANASIS-II\n",
      "ANASIS-II\n",
      "GTO\n",
      "<generator object Tag._all_strings at 0x7f6998ce3650>\n",
      "Success\n",
      "\n",
      "Success\n",
      "90\n",
      "7 August 2020\n",
      "05:12\n",
      "F9 B5\n",
      "KSC\n",
      "Starlink\n",
      "Starlink\n",
      "LEO\n",
      "<generator object Tag._all_strings at 0x7f6998ce36d0>\n",
      "Success\n",
      "\n",
      "Success\n",
      "91\n",
      "18 August 2020\n",
      "14:31\n",
      "F9 B5B1049.6\n",
      "CCAFS\n",
      "Starlink\n",
      "Starlink\n",
      "LEO\n",
      "<generator object Tag._all_strings at 0x7f6998ce3750>\n",
      "Success\n",
      "\n",
      "Success\n",
      "92\n",
      "30 August 2020\n",
      "23:18\n",
      "F9 B5\n",
      "CCAFS\n",
      "SAOCOM 1B\n",
      "SAOCOM 1B\n",
      "SSO\n",
      "<generator object Tag._all_strings at 0x7f6998ce37d0>\n",
      "Success\n",
      "\n",
      "Success\n",
      "93\n",
      "3 September 2020\n",
      "12:46:14\n",
      "F9 B5B1060.2\n",
      "KSC\n",
      "Starlink\n",
      "Starlink\n",
      "LEO\n",
      "<generator object Tag._all_strings at 0x7f6998ce3850>\n",
      "Success\n",
      "\n",
      "Success\n",
      "94\n",
      "6 October 2020\n",
      "11:29:34\n",
      "F9 B5B1058.3\n",
      "KSC\n",
      "Starlink\n",
      "Starlink\n",
      "LEO\n",
      "<generator object Tag._all_strings at 0x7f6998ce38d0>\n",
      "Success\n",
      "\n",
      "Success\n",
      "95\n",
      "18 October 2020\n",
      "12:25:57\n",
      "F9 B5B1051.6\n",
      "KSC\n",
      "Starlink\n",
      "Starlink\n",
      "LEO\n",
      "<generator object Tag._all_strings at 0x7f6998ce3950>\n",
      "Success\n",
      "\n",
      "Success\n",
      "96\n",
      "24 October 2020\n",
      "15:31:34\n",
      "F9 B5\n",
      "CCAFS\n",
      "Starlink\n",
      "Starlink\n",
      "LEO\n",
      "<generator object Tag._all_strings at 0x7f6998ce39d0>\n",
      "Success\n",
      "\n",
      "Success\n",
      "97\n",
      "5 November 2020\n",
      "23:24:23\n",
      "F9 B5\n",
      "CCAFS\n",
      "GPS III\n",
      "GPS III\n",
      "MEO\n",
      "<generator object Tag._all_strings at 0x7f6998ce3a50>\n",
      "Success\n",
      "\n",
      "Success\n",
      "98\n",
      "16 November 2020\n",
      "00:27\n",
      "F9 B5\n",
      "KSC\n",
      "Crew-1\n",
      "Crew-1\n",
      "LEO\n",
      "<generator object Tag._all_strings at 0x7f6998ce3ad0>\n",
      "Success\n",
      "\n",
      "Success\n",
      "99\n",
      "21 November 2020\n",
      "17:17:08\n",
      "F9 B5\n",
      "VAFB\n",
      "Sentinel-6 Michael Freilich (Jason-CS A)\n",
      "Sentinel-6 Michael Freilich (Jason-CS A)\n",
      "LEO\n",
      "<generator object Tag._all_strings at 0x7f6998ce3b50>\n",
      "Success\n",
      "\n",
      "Success\n",
      "100\n",
      "25 November 2020\n",
      "02:13\n",
      "F9 B5 ♺\n",
      "CCAFS\n",
      "Starlink\n",
      "Starlink\n",
      "LEO\n",
      "<generator object Tag._all_strings at 0x7f6998ce3bd0>\n",
      "Success\n",
      "\n",
      "Success\n",
      "101\n",
      "6 December 2020\n",
      "16:17:08\n",
      "F9 B5 ♺\n",
      "KSC\n",
      "SpaceX CRS-21\n",
      "SpaceX CRS-21\n",
      "LEO\n",
      "<generator object Tag._all_strings at 0x7f6998ce3c50>\n",
      "Success\n",
      "\n",
      "Success\n",
      "102\n",
      "13 December 2020\n",
      "17:30:00\n",
      "F9 B5 ♺\n",
      "CCSFS\n",
      "SXM-7\n",
      "SXM-7\n",
      "GTO\n",
      "<generator object Tag._all_strings at 0x7f6998ce3cd0>\n",
      "Success\n",
      "\n",
      "Success\n",
      "103\n",
      "19 December 2020\n",
      "14:00:00\n",
      "F9 B5 ♺\n",
      "KSC\n",
      "NROL-108\n",
      "NROL-108\n",
      "LEO\n",
      "<generator object Tag._all_strings at 0x7f6998ce3d50>\n",
      "Success\n",
      "\n",
      "Success\n",
      "104\n",
      "8 January 2021\n",
      "02:15\n",
      "F9 B5\n",
      "CCSFS\n",
      "Türksat 5A\n",
      "Türksat 5A\n",
      "GTO\n",
      "<generator object Tag._all_strings at 0x7f6998ce3dd0>\n",
      "Success\n",
      "\n",
      "Success\n",
      "105\n",
      "20 January 2021\n",
      "13:02\n",
      "F9 B5B1051.8\n",
      "KSC\n",
      "Starlink\n",
      "Starlink\n",
      "LEO\n",
      "<generator object Tag._all_strings at 0x7f6998ce3e50>\n",
      "Success\n",
      "\n",
      "Success\n",
      "106\n",
      "24 January 2021\n",
      "15:00\n",
      "F9 B5B1058.5\n",
      "CCSFS\n",
      "Transporter-1\n",
      "Transporter-1\n",
      "SSO\n"
     ]
    },
    {
     "ename": "AttributeError",
     "evalue": "'NoneType' object has no attribute 'strings'",
     "output_type": "error",
     "traceback": [
      "\u001b[0;31m---------------------------------------------------------------------------\u001b[0m",
      "\u001b[0;31mAttributeError\u001b[0m                            Traceback (most recent call last)",
      "\u001b[0;32m/tmp/ipykernel_71/1818537975.py\u001b[0m in \u001b[0;36m<module>\u001b[0;34m\u001b[0m\n\u001b[1;32m     67\u001b[0m             \u001b[0;31m# Customer\u001b[0m\u001b[0;34m\u001b[0m\u001b[0;34m\u001b[0m\u001b[0;34m\u001b[0m\u001b[0m\n\u001b[1;32m     68\u001b[0m             \u001b[0;31m# TODO: Append the customer into launch_dict with key `Customer`\u001b[0m\u001b[0;34m\u001b[0m\u001b[0;34m\u001b[0m\u001b[0;34m\u001b[0m\u001b[0m\n\u001b[0;32m---> 69\u001b[0;31m             \u001b[0mcustomer\u001b[0m \u001b[0;34m=\u001b[0m \u001b[0mrow\u001b[0m\u001b[0;34m[\u001b[0m\u001b[0;36m6\u001b[0m\u001b[0;34m]\u001b[0m\u001b[0;34m.\u001b[0m\u001b[0ma\u001b[0m\u001b[0;34m.\u001b[0m\u001b[0mstrings\u001b[0m\u001b[0;34m\u001b[0m\u001b[0;34m\u001b[0m\u001b[0m\n\u001b[0m\u001b[1;32m     70\u001b[0m             \u001b[0mlaunch_dict\u001b[0m\u001b[0;34m[\u001b[0m\u001b[0;34m'Customer'\u001b[0m\u001b[0;34m]\u001b[0m\u001b[0;34m.\u001b[0m\u001b[0mappend\u001b[0m\u001b[0;34m(\u001b[0m\u001b[0mcustomer\u001b[0m\u001b[0;34m)\u001b[0m\u001b[0;34m\u001b[0m\u001b[0;34m\u001b[0m\u001b[0m\n\u001b[1;32m     71\u001b[0m             \u001b[0mprint\u001b[0m\u001b[0;34m(\u001b[0m\u001b[0mcustomer\u001b[0m\u001b[0;34m)\u001b[0m\u001b[0;34m\u001b[0m\u001b[0;34m\u001b[0m\u001b[0m\n",
      "\u001b[0;31mAttributeError\u001b[0m: 'NoneType' object has no attribute 'strings'"
     ]
    }
   ],
   "source": [
    "extracted_row = 0\n",
    "#Extract each table \n",
    "for table_number,table in enumerate(soup.find_all('table',\"wikitable plainrowheaders collapsible\")):\n",
    "   # get table row \n",
    "    for rows in table.find_all(\"tr\"):\n",
    "        #check to see if first table heading is as number corresponding to launch a number \n",
    "        if rows.th:\n",
    "            if rows.th.string:\n",
    "                flight_number=rows.th.string.strip()\n",
    "                flag=flight_number.isdigit()\n",
    "        else:\n",
    "            flag=False\n",
    "        #get table element \n",
    "        row=rows.find_all('td')\n",
    "        #if it is number save cells in a dictonary \n",
    "        if flag:\n",
    "            extracted_row += 1\n",
    "            # Flight Number value\n",
    "            # TODO: Append the flight_number into launch_dict with key `Flight No.`\n",
    "            launch_dict['Flight No.'].append(flight_number)\n",
    "            print(flight_number)\n",
    "            datatimelist=date_time(row[0])\n",
    "            \n",
    "            # Date value\n",
    "            # TODO: Append the date into launch_dict with key `Date`\n",
    "            date = datatimelist[0].strip(',')\n",
    "            launch_dict['Date'].append(date)\n",
    "            print(date)\n",
    "            \n",
    "            # Time value\n",
    "            # TODO: Append the time into launch_dict with key `Time`\n",
    "            time = datatimelist[1]\n",
    "            launch_dict['Time'].append(time)\n",
    "            print(time)\n",
    "              \n",
    "            # Booster version\n",
    "            # TODO: Append the bv into launch_dict with key `Version Booster`\n",
    "            bv=booster_version(row[1])\n",
    "            if not(bv):\n",
    "                bv=row[1].a.string\n",
    "            print(bv)\n",
    "            \n",
    "            # Launch Site\n",
    "            # TODO: Append the bv into launch_dict with key `Launch Site`\n",
    "            launch_site = row[2].a.string\n",
    "            launch_dict['Launch site'].append(launch_site)\n",
    "            print(launch_site)\n",
    "            \n",
    "            # Payload\n",
    "            # TODO: Append the payload into launch_dict with key `Payload`\n",
    "            payload = row[3].a.string\n",
    "            launch_dict['Payload'].append(payload)\n",
    "            print(payload)\n",
    "            \n",
    "            # Payload Mass\n",
    "            # TODO: Append the payload_mass into launch_dict with key `Payload mass`\n",
    "            payload_mass = get_mass(row[4])\n",
    "            launch_dict['Payload mass'].append(payload_mass)\n",
    "            print(payload)\n",
    "            \n",
    "            # Orbit\n",
    "            # TODO: Append the orbit into launch_dict with key `Orbit`\n",
    "            orbit = row[5].a.string\n",
    "            launch_dict['Orbit'].append(orbit)\n",
    "            print(orbit)\n",
    "            \n",
    "            # Customer\n",
    "            # TODO: Append the customer into launch_dict with key `Customer`\n",
    "            customer = row[6].a.strings\n",
    "            launch_dict['Customer'].append(customer)\n",
    "            print(customer)\n",
    "            \n",
    "            # Launch outcome\n",
    "            # TODO: Append the launch_outcome into launch_dict with key `Launch outcome`\n",
    "            launch_outcome = list(row[7].strings)[0]\n",
    "            launch_dict['Launch outcome'].append(launch_outcome)\n",
    "            print(launch_outcome)\n",
    "            \n",
    "            # Booster landing\n",
    "            # TODO: Append the launch_outcome into launch_dict with key `Booster landing`\n",
    "            booster_landing = landing_status(row[8])\n",
    "            launch_dict['Booster landing'].append(booster_landing)\n",
    "            print(booster_landing)\n",
    "            "
   ]
  },
  {
   "cell_type": "markdown",
   "metadata": {},
   "source": [
    "After you have fill in the parsed launch record values into `launch_dict`, you can create a dataframe from it.\n"
   ]
  },
  {
   "cell_type": "code",
   "execution_count": 20,
   "metadata": {},
   "outputs": [
    {
     "ename": "ValueError",
     "evalue": "All arrays must be of the same length",
     "output_type": "error",
     "traceback": [
      "\u001b[0;31m---------------------------------------------------------------------------\u001b[0m",
      "\u001b[0;31mValueError\u001b[0m                                Traceback (most recent call last)",
      "\u001b[0;32m/tmp/ipykernel_71/3083619374.py\u001b[0m in \u001b[0;36m<module>\u001b[0;34m\u001b[0m\n\u001b[0;32m----> 1\u001b[0;31m \u001b[0mdf\u001b[0m\u001b[0;34m=\u001b[0m\u001b[0mpd\u001b[0m\u001b[0;34m.\u001b[0m\u001b[0mDataFrame\u001b[0m\u001b[0;34m(\u001b[0m\u001b[0mlaunch_dict\u001b[0m\u001b[0;34m)\u001b[0m\u001b[0;34m\u001b[0m\u001b[0;34m\u001b[0m\u001b[0m\n\u001b[0m",
      "\u001b[0;32m~/conda/envs/python/lib/python3.7/site-packages/pandas/core/frame.py\u001b[0m in \u001b[0;36m__init__\u001b[0;34m(self, data, index, columns, dtype, copy)\u001b[0m\n\u001b[1;32m    612\u001b[0m         \u001b[0;32melif\u001b[0m \u001b[0misinstance\u001b[0m\u001b[0;34m(\u001b[0m\u001b[0mdata\u001b[0m\u001b[0;34m,\u001b[0m \u001b[0mdict\u001b[0m\u001b[0;34m)\u001b[0m\u001b[0;34m:\u001b[0m\u001b[0;34m\u001b[0m\u001b[0;34m\u001b[0m\u001b[0m\n\u001b[1;32m    613\u001b[0m             \u001b[0;31m# GH#38939 de facto copy defaults to False only in non-dict cases\u001b[0m\u001b[0;34m\u001b[0m\u001b[0;34m\u001b[0m\u001b[0;34m\u001b[0m\u001b[0m\n\u001b[0;32m--> 614\u001b[0;31m             \u001b[0mmgr\u001b[0m \u001b[0;34m=\u001b[0m \u001b[0mdict_to_mgr\u001b[0m\u001b[0;34m(\u001b[0m\u001b[0mdata\u001b[0m\u001b[0;34m,\u001b[0m \u001b[0mindex\u001b[0m\u001b[0;34m,\u001b[0m \u001b[0mcolumns\u001b[0m\u001b[0;34m,\u001b[0m \u001b[0mdtype\u001b[0m\u001b[0;34m=\u001b[0m\u001b[0mdtype\u001b[0m\u001b[0;34m,\u001b[0m \u001b[0mcopy\u001b[0m\u001b[0;34m=\u001b[0m\u001b[0mcopy\u001b[0m\u001b[0;34m,\u001b[0m \u001b[0mtyp\u001b[0m\u001b[0;34m=\u001b[0m\u001b[0mmanager\u001b[0m\u001b[0;34m)\u001b[0m\u001b[0;34m\u001b[0m\u001b[0;34m\u001b[0m\u001b[0m\n\u001b[0m\u001b[1;32m    615\u001b[0m         \u001b[0;32melif\u001b[0m \u001b[0misinstance\u001b[0m\u001b[0;34m(\u001b[0m\u001b[0mdata\u001b[0m\u001b[0;34m,\u001b[0m \u001b[0mma\u001b[0m\u001b[0;34m.\u001b[0m\u001b[0mMaskedArray\u001b[0m\u001b[0;34m)\u001b[0m\u001b[0;34m:\u001b[0m\u001b[0;34m\u001b[0m\u001b[0;34m\u001b[0m\u001b[0m\n\u001b[1;32m    616\u001b[0m             \u001b[0;32mimport\u001b[0m \u001b[0mnumpy\u001b[0m\u001b[0;34m.\u001b[0m\u001b[0mma\u001b[0m\u001b[0;34m.\u001b[0m\u001b[0mmrecords\u001b[0m \u001b[0;32mas\u001b[0m \u001b[0mmrecords\u001b[0m\u001b[0;34m\u001b[0m\u001b[0;34m\u001b[0m\u001b[0m\n",
      "\u001b[0;32m~/conda/envs/python/lib/python3.7/site-packages/pandas/core/internals/construction.py\u001b[0m in \u001b[0;36mdict_to_mgr\u001b[0;34m(data, index, columns, dtype, typ, copy)\u001b[0m\n\u001b[1;32m    463\u001b[0m \u001b[0;34m\u001b[0m\u001b[0m\n\u001b[1;32m    464\u001b[0m     return arrays_to_mgr(\n\u001b[0;32m--> 465\u001b[0;31m         \u001b[0marrays\u001b[0m\u001b[0;34m,\u001b[0m \u001b[0mdata_names\u001b[0m\u001b[0;34m,\u001b[0m \u001b[0mindex\u001b[0m\u001b[0;34m,\u001b[0m \u001b[0mcolumns\u001b[0m\u001b[0;34m,\u001b[0m \u001b[0mdtype\u001b[0m\u001b[0;34m=\u001b[0m\u001b[0mdtype\u001b[0m\u001b[0;34m,\u001b[0m \u001b[0mtyp\u001b[0m\u001b[0;34m=\u001b[0m\u001b[0mtyp\u001b[0m\u001b[0;34m,\u001b[0m \u001b[0mconsolidate\u001b[0m\u001b[0;34m=\u001b[0m\u001b[0mcopy\u001b[0m\u001b[0;34m\u001b[0m\u001b[0;34m\u001b[0m\u001b[0m\n\u001b[0m\u001b[1;32m    466\u001b[0m     )\n\u001b[1;32m    467\u001b[0m \u001b[0;34m\u001b[0m\u001b[0m\n",
      "\u001b[0;32m~/conda/envs/python/lib/python3.7/site-packages/pandas/core/internals/construction.py\u001b[0m in \u001b[0;36marrays_to_mgr\u001b[0;34m(arrays, arr_names, index, columns, dtype, verify_integrity, typ, consolidate)\u001b[0m\n\u001b[1;32m    117\u001b[0m         \u001b[0;31m# figure out the index, if necessary\u001b[0m\u001b[0;34m\u001b[0m\u001b[0;34m\u001b[0m\u001b[0;34m\u001b[0m\u001b[0m\n\u001b[1;32m    118\u001b[0m         \u001b[0;32mif\u001b[0m \u001b[0mindex\u001b[0m \u001b[0;32mis\u001b[0m \u001b[0;32mNone\u001b[0m\u001b[0;34m:\u001b[0m\u001b[0;34m\u001b[0m\u001b[0;34m\u001b[0m\u001b[0m\n\u001b[0;32m--> 119\u001b[0;31m             \u001b[0mindex\u001b[0m \u001b[0;34m=\u001b[0m \u001b[0m_extract_index\u001b[0m\u001b[0;34m(\u001b[0m\u001b[0marrays\u001b[0m\u001b[0;34m)\u001b[0m\u001b[0;34m\u001b[0m\u001b[0;34m\u001b[0m\u001b[0m\n\u001b[0m\u001b[1;32m    120\u001b[0m         \u001b[0;32melse\u001b[0m\u001b[0;34m:\u001b[0m\u001b[0;34m\u001b[0m\u001b[0;34m\u001b[0m\u001b[0m\n\u001b[1;32m    121\u001b[0m             \u001b[0mindex\u001b[0m \u001b[0;34m=\u001b[0m \u001b[0mensure_index\u001b[0m\u001b[0;34m(\u001b[0m\u001b[0mindex\u001b[0m\u001b[0;34m)\u001b[0m\u001b[0;34m\u001b[0m\u001b[0;34m\u001b[0m\u001b[0m\n",
      "\u001b[0;32m~/conda/envs/python/lib/python3.7/site-packages/pandas/core/internals/construction.py\u001b[0m in \u001b[0;36m_extract_index\u001b[0;34m(data)\u001b[0m\n\u001b[1;32m    633\u001b[0m             \u001b[0mlengths\u001b[0m \u001b[0;34m=\u001b[0m \u001b[0mlist\u001b[0m\u001b[0;34m(\u001b[0m\u001b[0mset\u001b[0m\u001b[0;34m(\u001b[0m\u001b[0mraw_lengths\u001b[0m\u001b[0;34m)\u001b[0m\u001b[0;34m)\u001b[0m\u001b[0;34m\u001b[0m\u001b[0;34m\u001b[0m\u001b[0m\n\u001b[1;32m    634\u001b[0m             \u001b[0;32mif\u001b[0m \u001b[0mlen\u001b[0m\u001b[0;34m(\u001b[0m\u001b[0mlengths\u001b[0m\u001b[0;34m)\u001b[0m \u001b[0;34m>\u001b[0m \u001b[0;36m1\u001b[0m\u001b[0;34m:\u001b[0m\u001b[0;34m\u001b[0m\u001b[0;34m\u001b[0m\u001b[0m\n\u001b[0;32m--> 635\u001b[0;31m                 \u001b[0;32mraise\u001b[0m \u001b[0mValueError\u001b[0m\u001b[0;34m(\u001b[0m\u001b[0;34m\"All arrays must be of the same length\"\u001b[0m\u001b[0;34m)\u001b[0m\u001b[0;34m\u001b[0m\u001b[0;34m\u001b[0m\u001b[0m\n\u001b[0m\u001b[1;32m    636\u001b[0m \u001b[0;34m\u001b[0m\u001b[0m\n\u001b[1;32m    637\u001b[0m             \u001b[0;32mif\u001b[0m \u001b[0mhave_dicts\u001b[0m\u001b[0;34m:\u001b[0m\u001b[0;34m\u001b[0m\u001b[0;34m\u001b[0m\u001b[0m\n",
      "\u001b[0;31mValueError\u001b[0m: All arrays must be of the same length"
     ]
    }
   ],
   "source": [
    "df=pd.DataFrame(launch_dict)"
   ]
  },
  {
   "cell_type": "code",
   "execution_count": 21,
   "metadata": {},
   "outputs": [
    {
     "name": "stdout",
     "output_type": "stream",
     "text": [
      "key name length 10\n",
      "key name length 11\n",
      "key name length 7\n",
      "key name length 12\n",
      "key name length 5\n",
      "key name length 8\n",
      "key name length 14\n",
      "key name length 15\n",
      "key name length 15\n",
      "key name length 4\n",
      "key name length 4\n"
     ]
    }
   ],
   "source": [
    "for i in launch_dict :\n",
    "    print('key name length {}'.format(len(i)))"
   ]
  },
  {
   "cell_type": "markdown",
   "metadata": {},
   "source": [
    "We can now export it to a <b>CSV</b> for the next section, but to make the answers consistent and in case you have difficulties finishing this lab.\n",
    "\n",
    "Following labs will be using a provided dataset to make each lab independent.\n"
   ]
  },
  {
   "cell_type": "markdown",
   "metadata": {},
   "source": [
    "<code>df.to_csv('spacex_web_scraped.csv', index=False)</code>\n"
   ]
  },
  {
   "cell_type": "markdown",
   "metadata": {},
   "source": [
    "## Authors\n"
   ]
  },
  {
   "cell_type": "markdown",
   "metadata": {},
   "source": [
    "<a href=\"https://www.linkedin.com/in/yan-luo-96288783/?utm_medium=Exinfluencer&utm_source=Exinfluencer&utm_content=000026UJ&utm_term=10006555&utm_id=NA-SkillsNetwork-Channel-SkillsNetworkCoursesIBMDS0321ENSkillsNetwork26802033-2022-01-01\">Yan Luo</a>\n"
   ]
  },
  {
   "cell_type": "markdown",
   "metadata": {},
   "source": [
    "<a href=\"https://www.linkedin.com/in/nayefaboutayoun/?utm_medium=Exinfluencer&utm_source=Exinfluencer&utm_content=000026UJ&utm_term=10006555&utm_id=NA-SkillsNetwork-Channel-SkillsNetworkCoursesIBMDS0321ENSkillsNetwork26802033-2022-01-01\">Nayef Abou Tayoun</a>\n"
   ]
  },
  {
   "cell_type": "markdown",
   "metadata": {},
   "source": [
    "## Change Log\n"
   ]
  },
  {
   "cell_type": "markdown",
   "metadata": {},
   "source": [
    "| Date (YYYY-MM-DD) | Version | Changed By | Change Description          |\n",
    "| ----------------- | ------- | ---------- | --------------------------- |\n",
    "| 2021-06-09        | 1.0     | Yan Luo    | Tasks updates               |\n",
    "| 2020-11-10        | 1.0     | Nayef      | Created the initial version |\n"
   ]
  },
  {
   "cell_type": "markdown",
   "metadata": {},
   "source": [
    "Copyright © 2021 IBM Corporation. All rights reserved.\n"
   ]
  }
 ],
 "metadata": {
  "kernelspec": {
   "display_name": "Python",
   "language": "python",
   "name": "conda-env-python-py"
  },
  "language_info": {
   "codemirror_mode": {
    "name": "ipython",
    "version": 3
   },
   "file_extension": ".py",
   "mimetype": "text/x-python",
   "name": "python",
   "nbconvert_exporter": "python",
   "pygments_lexer": "ipython3",
   "version": "3.7.12"
  }
 },
 "nbformat": 4,
 "nbformat_minor": 4
}
